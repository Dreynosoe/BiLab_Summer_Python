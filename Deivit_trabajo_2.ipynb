{
  "nbformat": 4,
  "nbformat_minor": 0,
  "metadata": {
    "colab": {
      "provenance": [],
      "authorship_tag": "ABX9TyOpdt6jsqr5YfylnprtHBb6",
      "include_colab_link": true
    },
    "kernelspec": {
      "name": "python3",
      "display_name": "Python 3"
    },
    "language_info": {
      "name": "python"
    }
  },
  "cells": [
    {
      "cell_type": "markdown",
      "metadata": {
        "id": "view-in-github",
        "colab_type": "text"
      },
      "source": [
        "<a href=\"https://colab.research.google.com/github/Dreynosoe/BiLab_Summer_Python/blob/main/Deivit_trabajo_2.ipynb\" target=\"_parent\"><img src=\"https://colab.research.google.com/assets/colab-badge.svg\" alt=\"Open In Colab\"/></a>"
      ]
    },
    {
      "cell_type": "code",
      "execution_count": 2,
      "metadata": {
        "colab": {
          "base_uri": "https://localhost:8080/"
        },
        "id": "yl0gvLb67XpR",
        "outputId": "76d6688e-2e98-4588-c43a-88f4e73ba266"
      },
      "outputs": [
        {
          "output_type": "stream",
          "name": "stdout",
          "text": [
            "The indices 0, 2, 4, 7 have np.nan values.\n"
          ]
        }
      ],
      "source": [
        "import numpy as np\n",
        "\n",
        "# Una lista llamada f_list con algunos valores NaN\n",
        "f_list = [np.nan, 2, np.nan, 4, np.nan, 6, 7, np.nan]\n",
        "# Encuentra los índices de los valores NaN en la lista\n",
        "nan_indices = [i for i, value in enumerate(f_list) if np.isnan(value)]\n",
        "# Imprime el resultado utilizando f-strings\n",
        "if nan_indices:\n",
        "    print(f\"The indices {', '.join(map(str, nan_indices))} have np.nan values.\")\n",
        "else:\n",
        "    print(\"There are no np.nan values in the list.\")"
      ]
    },
    {
      "cell_type": "code",
      "source": [
        "# Una lista llamada p2_list\n",
        "p2_list = [2, 3, 4, 5]\n",
        "# Replica los valores 4 veces\n",
        "replicated_list = p2_list * 4\n",
        "print(replicated_list)\n"
      ],
      "metadata": {
        "colab": {
          "base_uri": "https://localhost:8080/"
        },
        "id": "1InWvedu726M",
        "outputId": "213e1460-b355-4f9c-ed89-b2f500316290"
      },
      "execution_count": 3,
      "outputs": [
        {
          "output_type": "stream",
          "name": "stdout",
          "text": [
            "[2, 3, 4, 5, 2, 3, 4, 5, 2, 3, 4, 5, 2, 3, 4, 5]\n"
          ]
        }
      ]
    },
    {
      "cell_type": "code",
      "source": [
        "# Una lista llamada f_list\n",
        "f_list = [np.nan, 2, np.nan, 4, np.nan, 6, 7, np.nan]\n",
        "\n",
        "# Imprime la longitud de la lista\n",
        "print(\"The length of f_list is:\", len(f_list))\n"
      ],
      "metadata": {
        "colab": {
          "base_uri": "https://localhost:8080/"
        },
        "id": "H4jWGxPR8I7e",
        "outputId": "622f4d2d-bdd9-4bb4-9978-87940bbd7801"
      },
      "execution_count": 4,
      "outputs": [
        {
          "output_type": "stream",
          "name": "stdout",
          "text": [
            "The length of f_list is: 8\n"
          ]
        }
      ]
    },
    {
      "cell_type": "code",
      "source": [
        "# Una lista llamada text1\n",
        "text1 = [\"My\", \"teacher\", \"assistant\", \"is\", \"so\", \"boring.\"]\n",
        "\n",
        "# Imprime la frase usando la función join\n",
        "print(\" \".join(text1))"
      ],
      "metadata": {
        "colab": {
          "base_uri": "https://localhost:8080/"
        },
        "id": "n9jTPpXn8TRN",
        "outputId": "a85e51c8-8b7f-421e-86d4-1c2c6c642f0a"
      },
      "execution_count": 8,
      "outputs": [
        {
          "output_type": "stream",
          "name": "stdout",
          "text": [
            "My teacher assistant is so boring.\n"
          ]
        }
      ]
    },
    {
      "cell_type": "code",
      "source": [
        "# Una lista llamada text1\n",
        "text1 = [\"My\", \"teacher\", \"assistant\", \"is\", \"so\", \"boring.\"]\n",
        "\n",
        "# Extiende la lista con las palabras adicionales\n",
        "text1.extend([\"but\", \"is\", \"very\", \"funny.\"])\n",
        "\n",
        "# Imprime la frase usando la función join\n",
        "print(\" \".join(text1))"
      ],
      "metadata": {
        "colab": {
          "base_uri": "https://localhost:8080/"
        },
        "id": "M7SnwGgO8jIZ",
        "outputId": "9cbdf273-c30a-40f7-dc8f-20c20b29c9c3"
      },
      "execution_count": 6,
      "outputs": [
        {
          "output_type": "stream",
          "name": "stdout",
          "text": [
            "My teacher assistant is so boring. but is very funny.\n"
          ]
        }
      ]
    },
    {
      "cell_type": "code",
      "source": [
        "# Supongamos que tienes una lista llamada values1\n",
        "values1 = [15, 30, 40, 86, 50, 20, 5, 0]\n",
        "\n",
        "# Calcula el valor máximo y su índice\n",
        "max_value = max(values1)\n",
        "max_index = values1.index(max_value)\n",
        "\n",
        "# Calcula el valor mínimo y su índice\n",
        "min_value = min(values1)\n",
        "min_index = values1.index(min_value)\n",
        "\n",
        "# Imprime los resultados usando f-strings\n",
        "print(f\"The max value of values1 is {max_value} and is located in the {max_index} index.\")\n",
        "print(f\"The min value of values1 is {min_value} and is located in the {min_index} index.\")\n"
      ],
      "metadata": {
        "colab": {
          "base_uri": "https://localhost:8080/"
        },
        "id": "x7-JRqEI8rYa",
        "outputId": "2bc295c7-b11f-49ba-cae7-9bf91c84e289"
      },
      "execution_count": 7,
      "outputs": [
        {
          "output_type": "stream",
          "name": "stdout",
          "text": [
            "The max value of values1 is 86 and is located in the 3 index.\n",
            "The min value of values1 is 0 and is located in the 7 index.\n"
          ]
        }
      ]
    },
    {
      "cell_type": "code",
      "source": [
        "# Una lista llamada last_and_name con nombres y apellidos peruanos\n",
        "last_and_name = [\"López, María\", \"Gutiérrez, Carlos\", \"Vargas, Ana\"]\n",
        "# Utiliza map y split para obtener las listas de nombres y apellidos\n",
        "last_names, names = zip(*(name.split(', ') for name in last_and_name))\n",
        "# Imprime las listas resultantes\n",
        "print(\"Apellidos:\", list(last_names))\n",
        "print(\"Nombres:\", list(names))\n"
      ],
      "metadata": {
        "colab": {
          "base_uri": "https://localhost:8080/"
        },
        "id": "5-OCu3Je9Acy",
        "outputId": "7b550a28-82bb-4bf2-a17a-576865701e20"
      },
      "execution_count": 9,
      "outputs": [
        {
          "output_type": "stream",
          "name": "stdout",
          "text": [
            "Apellidos: ['López', 'Gutiérrez', 'Vargas']\n",
            "Nombres: ['María', 'Carlos', 'Ana']\n"
          ]
        }
      ]
    },
    {
      "cell_type": "code",
      "source": [
        "# Supongamos que tienes listas llamadas emails y last_names\n",
        "emails = [\"maria.lopez@example.com\", \"carlos.gutierrez@example.com\", \"\", \"ana.vargas@example.com\"]\n",
        "last_names = [\"López\", \"Gutiérrez\", \"García\", \"Vargas\"]\n",
        "\n",
        "# Filtra los apellidos de estudiantes que no tienen correo electrónico\n",
        "last_names_without_email = [last_name for email, last_name in zip(emails, last_names) if not email]\n",
        "\n",
        "# Imprime los apellidos resultantes\n",
        "print(\"Last Names without Email:\", last_names_without_email)\n"
      ],
      "metadata": {
        "colab": {
          "base_uri": "https://localhost:8080/"
        },
        "id": "UIAKbzk39g_V",
        "outputId": "1b57fdb6-02fa-4649-e6aa-bf887c1f2788"
      },
      "execution_count": 10,
      "outputs": [
        {
          "output_type": "stream",
          "name": "stdout",
          "text": [
            "Last Names without Email: ['García']\n"
          ]
        }
      ]
    },
    {
      "cell_type": "code",
      "source": [],
      "metadata": {
        "id": "GeGNc4Nz9xKs"
      },
      "execution_count": null,
      "outputs": []
    }
  ]
}