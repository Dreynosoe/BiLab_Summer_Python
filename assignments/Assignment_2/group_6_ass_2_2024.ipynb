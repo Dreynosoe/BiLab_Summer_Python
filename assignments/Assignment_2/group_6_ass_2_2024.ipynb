{
 "cells": [
  {
   "cell_type": "code",
   "execution_count": null,
   "id": "96b3bb84",
   "metadata": {},
   "outputs": [],
   "source": [
    "# 1.1 Tuples"
   ]
  },
  {
   "cell_type": "code",
   "execution_count": null,
   "id": "601eec4c",
   "metadata": {},
   "outputs": [],
   "source": [
    "## 1. To access the first element, I used \"[1]\" and to access element 0 of the first element, I used \"[0]\""
   ]
  },
  {
   "cell_type": "code",
   "execution_count": 1,
   "id": "af541796",
   "metadata": {},
   "outputs": [
    {
     "name": "stdout",
     "output_type": "stream",
     "text": [
      "10\n"
     ]
    }
   ],
   "source": [
    "tuple1 = (\"Orange\", [10, 20, 30], (5, 15, 25))\n",
    "print(tuple1[1][0])"
   ]
  },
  {
   "cell_type": "code",
   "execution_count": null,
   "id": "8e385eaa",
   "metadata": {},
   "outputs": [],
   "source": [
    "## 2. To access the last item, I used [2] for selecting location"
   ]
  },
  {
   "cell_type": "code",
   "execution_count": 2,
   "id": "9f4da324",
   "metadata": {},
   "outputs": [
    {
     "name": "stdout",
     "output_type": "stream",
     "text": [
      "(5, 15, 25)\n"
     ]
    }
   ],
   "source": [
    "tuple1 = (\"Orange\", [10, 20, 30], (5, 15, 25))\n",
    "print(tuple1[2])"
   ]
  },
  {
   "cell_type": "code",
   "execution_count": null,
   "id": "4e8c9150",
   "metadata": {},
   "outputs": [],
   "source": [
    "## 3. We change the word \"Orange\" replacing it with \"pink grapefruit\". In this case, it is posisble to replace the elements of the tuple1, because we are just renaming the composition of the first item of the tuple1 and keeping the rest items."
   ]
  },
  {
   "cell_type": "code",
   "execution_count": 3,
   "id": "d7979219",
   "metadata": {},
   "outputs": [
    {
     "name": "stdout",
     "output_type": "stream",
     "text": [
      "('pink grapefruit', [10, 20, 30], (5, 15, 25))\n"
     ]
    }
   ],
   "source": [
    "tuple1 = (\"Orange\", [10, 20, 30], (5, 15, 25))\n",
    "tuple1 = (\"pink grapefruit\", [10, 20, 30], (5, 15, 25))\n",
    "print(tuple1)"
   ]
  },
  {
   "cell_type": "code",
   "execution_count": null,
   "id": "bc06be80",
   "metadata": {},
   "outputs": [],
   "source": [
    "## 4. We apply the \"Len\" function to calculate the number of items"
   ]
  },
  {
   "cell_type": "code",
   "execution_count": 4,
   "id": "4da96bb3",
   "metadata": {},
   "outputs": [
    {
     "data": {
      "text/plain": [
       "3"
      ]
     },
     "execution_count": 4,
     "metadata": {},
     "output_type": "execute_result"
    }
   ],
   "source": [
    "len(tuple1)"
   ]
  },
  {
   "cell_type": "code",
   "execution_count": null,
   "id": "7e5666cd",
   "metadata": {},
   "outputs": [],
   "source": [
    "## 5. We use \"map\" to apply the sum list function to each sublist in tuple2"
   ]
  },
  {
   "cell_type": "code",
   "execution_count": 5,
   "id": "4e6401a3",
   "metadata": {},
   "outputs": [
    {
     "name": "stdout",
     "output_type": "stream",
     "text": [
      "42\n"
     ]
    }
   ],
   "source": [
    "tuple2 = ([7, 8], [9, 1], [10, 7])\n",
    "X = sum(map(sum, tuple2))\n",
    "print(X)"
   ]
  },
  {
   "cell_type": "code",
   "execution_count": null,
   "id": "f5cb339d",
   "metadata": {},
   "outputs": [],
   "source": [
    "## 6. We use \"map\" to apply the sum list function to each sublist in tuple3 but first, we need to find the half values of tuple2 "
   ]
  },
  {
   "cell_type": "code",
   "execution_count": 6,
   "id": "bcf2ce43",
   "metadata": {},
   "outputs": [
    {
     "name": "stdout",
     "output_type": "stream",
     "text": [
      "21.0\n"
     ]
    }
   ],
   "source": [
    "tuple3 = ([3.5, 4], [4.5, 0.5], [5, 3.5])\n",
    "y= sum(map(sum , tuple3))\n",
    "print(y)"
   ]
  },
  {
   "cell_type": "code",
   "execution_count": null,
   "id": "563ac465",
   "metadata": {},
   "outputs": [],
   "source": [
    "# 1.2 List"
   ]
  },
  {
   "cell_type": "code",
   "execution_count": null,
   "id": "ac5a1baa",
   "metadata": {},
   "outputs": [],
   "source": [
    "## 1. Show the indices of the np.nan values in the f_list list. We want to see this output: The indices 0, 1, 4, 7 have np.nan values. Hint: Use print function and f-strings to insert the indices values.\n"
   ]
  },
  {
   "cell_type": "code",
   "execution_count": null,
   "id": "73e155eb",
   "metadata": {},
   "outputs": [],
   "source": [
    "nan_indices = [index for index, val in enumerate(f_list) if isinstance(val, float) and np.isnan(val)]\n",
    "print(f\"The indices {', '.join(map(str, nan_indices))} have np.nan values.\")"
   ]
  },
  {
   "cell_type": "code",
   "execution_count": null,
   "id": "c15d78cf",
   "metadata": {},
   "outputs": [],
   "source": [
    "## 2. Replicate 4 times the values of the list p2_list. We expect an ouput like this: [ 2 , 3, 4, 5, 2 , 3, 4, 5, 2 , 3, 4, 5, 2 , 3, 4, 5]"
   ]
  },
  {
   "cell_type": "code",
   "execution_count": null,
   "id": "7b37841e",
   "metadata": {},
   "outputs": [],
   "source": [
    "p2_list = [2, 3, 4, 5]\n",
    "replicated = p2_list * 4\n",
    "print(replicated)"
   ]
  },
  {
   "cell_type": "code",
   "execution_count": null,
   "id": "6f30c99d",
   "metadata": {},
   "outputs": [],
   "source": [
    "## 3. Print the length of f_list."
   ]
  },
  {
   "cell_type": "code",
   "execution_count": null,
   "id": "d52510a5",
   "metadata": {},
   "outputs": [],
   "source": [
    "print(\"f_list\", len(f_list))"
   ]
  },
  {
   "cell_type": "code",
   "execution_count": null,
   "id": "1061ef0b",
   "metadata": {},
   "outputs": [],
   "source": [
    "## 4. Print My teacher assistant is so boring. using text1 list."
   ]
  },
  {
   "cell_type": "code",
   "execution_count": null,
   "id": "b3d30d98",
   "metadata": {},
   "outputs": [],
   "source": [
    "text1 = ['My', 'teacher', 'assistant', 'is', 'so', 'boring.']\n",
    "string = ' '.join(text1)\n",
    "print(string)"
   ]
  }
 ],
 "metadata": {
  "kernelspec": {
   "display_name": "Python 3 (ipykernel)",
   "language": "python",
   "name": "python3"
  },
  "language_info": {
   "codemirror_mode": {
    "name": "ipython",
    "version": 3
   },
   "file_extension": ".py",
   "mimetype": "text/x-python",
   "name": "python",
   "nbconvert_exporter": "python",
   "pygments_lexer": "ipython3",
   "version": "3.11.5"
  }
 },
 "nbformat": 4,
 "nbformat_minor": 5
}
