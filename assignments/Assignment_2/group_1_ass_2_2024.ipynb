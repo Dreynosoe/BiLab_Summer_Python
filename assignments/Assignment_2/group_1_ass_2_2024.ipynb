{
 "cells": [
  {
   "cell_type": "code",
   "execution_count": null,
   "id": "96b3bb84",
   "metadata": {},
   "outputs": [],
   "source": []
  },
  {
   "cell_type": "code",
   "execution_count": null,
   "id": "1c1ec021",
   "metadata": {},
   "outputs": [],
   "source": []
  },
  {
   "cell_type": "code",
   "execution_count": null,
   "id": "3af49a4e",
   "metadata": {
    "scrolled": true
   },
   "outputs": [],
   "source": []
  },
  {
   "cell_type": "markdown",
   "id": "ce99b3ad",
   "metadata": {},
   "source": [
    "1. Tuplas\n"
   ]
  },
  {
   "cell_type": "code",
   "execution_count": null,
   "id": "bd61d082",
   "metadata": {},
   "outputs": [],
   "source": [
    "tuple1 = (\"Orange\", [10, 20, 30], (5, 15, 25))"
   ]
  },
  {
   "cell_type": "code",
   "execution_count": null,
   "id": "3af3bac2",
   "metadata": {
    "scrolled": true
   },
   "outputs": [],
   "source": [
    "tuple1[1][0]\n",
    "\n"
   ]
  },
  {
   "cell_type": "markdown",
   "id": "f247e818",
   "metadata": {},
   "source": [
    "Es importante recordar que los índices empiezan desde 0 en Phyton, por ello el 10 representa el primer elemento del segundo elemento de la tupla. Se usa la indexación[] par obtener el elemento. En este caso, el segundo elemento es el 1 y el primer elemento del segundo elemento es el 0."
   ]
  },
  {
   "cell_type": "code",
   "execution_count": null,
   "id": "637eccb4",
   "metadata": {},
   "outputs": [],
   "source": [
    "tuple1[-1]"
   ]
  },
  {
   "cell_type": "markdown",
   "id": "4769891a",
   "metadata": {},
   "source": [
    "Se usa el valor -1 para obtener el último elemento de la tupla1"
   ]
  },
  {
   "cell_type": "code",
   "execution_count": null,
   "id": "cc1a026c",
   "metadata": {},
   "outputs": [],
   "source": [
    "tuple1[-1][-1]"
   ]
  },
  {
   "cell_type": "markdown",
   "id": "1cba6c5f",
   "metadata": {},
   "source": [
    "El último elemento del último elemento de la tupla\n"
   ]
  },
  {
   "cell_type": "markdown",
   "id": "861acffd",
   "metadata": {},
   "source": [
    "No es posible cambiar el elemento naranja por rosado, ya que las tuplas son contenedores de información que no son modificables, a diferencia de las listas que si pueden ser modificadas."
   ]
  },
  {
   "cell_type": "code",
   "execution_count": null,
   "id": "abde874d",
   "metadata": {},
   "outputs": [],
   "source": [
    "len (tuple1)"
   ]
  },
  {
   "cell_type": "code",
   "execution_count": null,
   "id": "c65c6029",
   "metadata": {},
   "outputs": [],
   "source": [
    "tuple2 = ([7, 8], [9, 1], [10, 7])"
   ]
  },
  {
   "cell_type": "code",
   "execution_count": null,
   "id": "3584adac",
   "metadata": {},
   "outputs": [],
   "source": [
    "resultado = map(sum,tuple2)\n"
   ]
  },
  {
   "cell_type": "code",
   "execution_count": null,
   "id": "3ca270d0",
   "metadata": {},
   "outputs": [],
   "source": [
    "print(tuple(resultado))"
   ]
  },
  {
   "cell_type": "markdown",
   "id": "4b2f44c5",
   "metadata": {},
   "source": [
    "En primer lugar, la función map debe incluir la función que se va aplicar y, en este caso es la función suma (sum) de elementos de la tupla. En segundo lugar, se debe colocar el nombre del iterable(tuple2) sobre el cual se va a aplicar la función de sumar elementos. En este caso, el resultado que se obtendra será una tupla con los valores finales de la sumatoria. También podemos convertirlo en una lista pero hemos decidido mantenerlo como tupla"
   ]
  },
  {
   "cell_type": "code",
   "execution_count": null,
   "id": "b088891d",
   "metadata": {},
   "outputs": [],
   "source": [
    "tuple2 = ([7, 8], [9, 1], [10, 7])\n"
   ]
  },
  {
   "cell_type": "code",
   "execution_count": null,
   "id": "45814db3",
   "metadata": {},
   "outputs": [],
   "source": [
    "tuple3=list(map(lambda el: list(map(lambda el: el/2, el)), tuple2))"
   ]
  },
  {
   "cell_type": "code",
   "execution_count": 274,
   "id": "f40f1526",
   "metadata": {},
   "outputs": [
    {
     "name": "stdout",
     "output_type": "stream",
     "text": [
      "([3.5, 4.0], [4.5, 0.5], [5.0, 3.5])\n"
     ]
    }
   ],
   "source": [
    "print(tuple(tuple3))"
   ]
  },
  {
   "cell_type": "markdown",
   "id": "12964cd0",
   "metadata": {},
   "source": [
    "2. Listas\n"
   ]
  },
  {
   "cell_type": "code",
   "execution_count": null,
   "id": "34281910",
   "metadata": {},
   "outputs": [],
   "source": [
    "import numpy as np"
   ]
  },
  {
   "cell_type": "code",
   "execution_count": 275,
   "id": "96b351ff",
   "metadata": {},
   "outputs": [],
   "source": [
    "f_list = [np.nan , np.nan, \"Austria\", \"Germany\", np.nan, \"Pakistan\", \"np.nan\", np.nan ]\n"
   ]
  },
  {
   "cell_type": "code",
   "execution_count": null,
   "id": "ea2fbe50",
   "metadata": {},
   "outputs": [],
   "source": [
    "np.nam=0,1,4,7"
   ]
  },
  {
   "cell_type": "code",
   "execution_count": 255,
   "id": "c37668ab",
   "metadata": {},
   "outputs": [
    {
     "name": "stdout",
     "output_type": "stream",
     "text": [
      "The indices (0, 1, 4, 7) have np.nan values.\n"
     ]
    }
   ],
   "source": [
    "print(f\"The indices {np.nam} have np.nan values.\")"
   ]
  },
  {
   "cell_type": "code",
   "execution_count": null,
   "id": "e417b51d",
   "metadata": {},
   "outputs": [],
   "source": [
    "p2_list = [ 2 , 3, 4, 5 ]"
   ]
  },
  {
   "cell_type": "code",
   "execution_count": null,
   "id": "8a810545",
   "metadata": {},
   "outputs": [],
   "source": [
    "p2_list*4"
   ]
  },
  {
   "cell_type": "code",
   "execution_count": null,
   "id": "0cf71eed",
   "metadata": {},
   "outputs": [],
   "source": [
    "len(f_list)"
   ]
  },
  {
   "cell_type": "code",
   "execution_count": 234,
   "id": "2d2ec80f",
   "metadata": {},
   "outputs": [],
   "source": [
    "text1 = ['My', 'teacher', 'assistant', 'is', 'so', 'boring.']"
   ]
  },
  {
   "cell_type": "code",
   "execution_count": 235,
   "id": "50442f88",
   "metadata": {},
   "outputs": [],
   "source": [
    "separador =  ' '"
   ]
  },
  {
   "cell_type": "code",
   "execution_count": 236,
   "id": "2839588a",
   "metadata": {},
   "outputs": [],
   "source": [
    "textofinal= separador.join(text1)"
   ]
  },
  {
   "cell_type": "code",
   "execution_count": 237,
   "id": "0580f180",
   "metadata": {},
   "outputs": [
    {
     "name": "stdout",
     "output_type": "stream",
     "text": [
      "My teacher assistant is so boring.\n"
     ]
    }
   ],
   "source": [
    "print(textofinal)"
   ]
  },
  {
   "cell_type": "code",
   "execution_count": 243,
   "id": "5cc4948d",
   "metadata": {},
   "outputs": [],
   "source": [
    "texto2= [',','but is very funny']"
   ]
  },
  {
   "cell_type": "code",
   "execution_count": 244,
   "id": "ecdf2b23",
   "metadata": {},
   "outputs": [],
   "source": [
    "text1.extend(texto2)"
   ]
  },
  {
   "cell_type": "code",
   "execution_count": 245,
   "id": "19fd218b",
   "metadata": {},
   "outputs": [
    {
     "name": "stdout",
     "output_type": "stream",
     "text": [
      "['My', 'teacher', 'assistant', 'is', 'so', 'boring.', ',', 'but is very funny']\n"
     ]
    }
   ],
   "source": [
    "print(text1)"
   ]
  },
  {
   "cell_type": "code",
   "execution_count": 246,
   "id": "f6ac769b",
   "metadata": {},
   "outputs": [],
   "source": [
    "separador =  ' '"
   ]
  },
  {
   "cell_type": "code",
   "execution_count": 250,
   "id": "ac44513a",
   "metadata": {},
   "outputs": [],
   "source": [
    "text1[5] = 'boring'"
   ]
  },
  {
   "cell_type": "code",
   "execution_count": 251,
   "id": "f3727a5b",
   "metadata": {},
   "outputs": [
    {
     "name": "stdout",
     "output_type": "stream",
     "text": [
      "['My', 'teacher', 'assistant', 'is', 'so', 'boring', ',', 'but is very funny']\n"
     ]
    }
   ],
   "source": [
    "print(text1)"
   ]
  },
  {
   "cell_type": "code",
   "execution_count": 252,
   "id": "e23e297e",
   "metadata": {},
   "outputs": [],
   "source": [
    "textofinal2= separador.join(text1)"
   ]
  },
  {
   "cell_type": "code",
   "execution_count": 253,
   "id": "a78f2f14",
   "metadata": {},
   "outputs": [
    {
     "name": "stdout",
     "output_type": "stream",
     "text": [
      "My teacher assistant is so boring , but is very funny\n"
     ]
    }
   ],
   "source": [
    "print(textofinal2)"
   ]
  },
  {
   "cell_type": "code",
   "execution_count": 254,
   "id": "56252c30",
   "metadata": {},
   "outputs": [],
   "source": [
    "values1 = [ 86, 86, 85, 85, 85, 83, 23, 0, 84, 1 ] "
   ]
  },
  {
   "cell_type": "code",
   "execution_count": 256,
   "id": "bf3e1653",
   "metadata": {},
   "outputs": [
    {
     "data": {
      "text/plain": [
       "86"
      ]
     },
     "execution_count": 256,
     "metadata": {},
     "output_type": "execute_result"
    }
   ],
   "source": [
    "max(values1)"
   ]
  },
  {
   "cell_type": "code",
   "execution_count": 257,
   "id": "fa0f0758",
   "metadata": {},
   "outputs": [
    {
     "data": {
      "text/plain": [
       "0"
      ]
     },
     "execution_count": 257,
     "metadata": {},
     "output_type": "execute_result"
    }
   ],
   "source": [
    "min(values1)"
   ]
  },
  {
   "cell_type": "code",
   "execution_count": 259,
   "id": "23e4ffdd",
   "metadata": {},
   "outputs": [],
   "source": [
    "maximo=max(values1)"
   ]
  },
  {
   "cell_type": "code",
   "execution_count": 263,
   "id": "ed111b85",
   "metadata": {},
   "outputs": [
    {
     "name": "stdout",
     "output_type": "stream",
     "text": [
      "86\n"
     ]
    }
   ],
   "source": [
    "print(maximo)"
   ]
  },
  {
   "cell_type": "markdown",
   "id": "43648f72",
   "metadata": {},
   "source": []
  },
  {
   "cell_type": "code",
   "execution_count": 264,
   "id": "355cab3d",
   "metadata": {},
   "outputs": [],
   "source": [
    "minimo=min(values1)"
   ]
  },
  {
   "cell_type": "code",
   "execution_count": 265,
   "id": "8ffd96d5",
   "metadata": {},
   "outputs": [
    {
     "name": "stdout",
     "output_type": "stream",
     "text": [
      "0\n"
     ]
    }
   ],
   "source": [
    "print(minimo)"
   ]
  },
  {
   "cell_type": "code",
   "execution_count": 267,
   "id": "0dc69742",
   "metadata": {},
   "outputs": [
    {
     "name": "stdout",
     "output_type": "stream",
     "text": [
      "The max value of values1 is 86 and is located in the 0 index.\n"
     ]
    }
   ],
   "source": [
    "print(f\"The max value of values1 is {maximo} and is located in the 0 index.\")"
   ]
  },
  {
   "cell_type": "code",
   "execution_count": 268,
   "id": "e6acbb9d",
   "metadata": {},
   "outputs": [
    {
     "name": "stdout",
     "output_type": "stream",
     "text": [
      "The min value of values1 is 0 and is located in the 7 index.\n"
     ]
    }
   ],
   "source": [
    "print(f\"The min value of values1 is {minimo} and is located in the 7 index.\")"
   ]
  },
  {
   "cell_type": "code",
   "execution_count": 281,
   "id": "4d5416f9",
   "metadata": {},
   "outputs": [],
   "source": [
    "last_and_name = [ \"CORNEJO SANCHEZ, CHRISTIAN SANTOS\", \"ORELLANA QUISPE, CRISTIAN NASSER\", \"MORALES CHOQUEHUANCA, ANGELICA KARINA\", \"GUIMARAY RIBEYRO, JOSE ROBERTO\", \"CAMACHO GAVIDIA, ABEL FERNANDO\", \"TINTAYA ORIHUELA, MEIR ALVARO\", \"CHAVEZ MARTINEZ, JOSELIN ALEXANDRA\", \"FIGUEROA MURO, LEONEL ARTURO\", \"GOMEZ CRIBILLERO, JOSE FELIPE\", \"PALOMINO SEGUÍN, AFRANIA\", \"LUZON CUEVA, BIANCA MARIETTE\", \"SUAÑA ZEGARRA, ADRIAN ANDRE\", \"SOTO POMACHAGUA, DORKAS YOMIRA JHERMY\", \"FIORENTINO MARTINEZ, LADY ALY\", \"LAMA MAVILA, HECTOR ANDRE\", \"MEZA HINOJO, GUSTAVO\", \"LOZADA MURILLO, PERSEO MARCELO\", \"ZAMBRANO JIMENEZ, MIGUEL ALONZO\", \"JACOBS LUQUE, NICOLAS\", \"VIDAL VIDAL, ROCIO GABRIELA\", \"TORRES ANICAMA, JANE CAMILA\", \"LOPEZ ESTRADA, MARIA ELISA\", \"BOYCO ORAMS, ALEJANDRO\", \"DIAZ BERROSPI, KARLINE ROSMELI\", \"RIEGA ESCALANTE, STEPHY ROSARIO\", \"LEVANO TORRES, VALERIA CECILIA\", \"ESQUIVES BRAVO, SEBASTIAN RENATO\", \"PEREZ GONZALES, JUAN CARLOS\", \"OTERO MAGUIÑA, MARIANA\", \"CLAVO CAMPOS, ANDREA BRIZETH\", \"AGUILAR GARCIA, ERICK JOSUE\", \"CALDAS VELASQUEZ, JOSUE DANIEL\", \"SALAS NUÑEZ BORJA, FABIO MANUEL\", \"PIZARRO VILLANES, FERNANDA NICOLLE\", \"QUILLATUPA MORALES, ANGELA ADELINA\", \"HUANCAYA IDONE, CESAR DANTE\", \"CALVO PORTOCARRERO, GABRIELA ISABEL\\\", \\\"IBAÑEZ ABANTO, ANGEL MAURICIO\", \"MELÉNDEZ APONTE, JUAN DIEGO\", \"CRISTIAN SERRANO, ARONE\", \"HINOJOSA CAHUANA, PERCY ALBERTH\", \"ANGLAS GARCÍA, KEVIN ARTURO\", \"ALDAVE ACOSTA, CESAR ERNESTO\", \"NÚÑEZ HUAMÁN, CÉSAR AGUSTO\", \"OBREGON HUAMAN, DIANA EDITH\", \"SOTO PACHERRES, RODRIGO FRANCO\", \"INGARUCA RIVERA, GRETTEL ALEXANDRA\", \"ROJAS HUAMAN, ROSA ANGELA\", \"NEYRA SALAS, DANTE OMAR\", \"HUERTA ESPINOZA, YAJAIRA ALEXANDRA\", \"HUANCA MARTINEZ, JORGE ALBERTO\", \"FLORES CADILLO, ALEXIS\" ]"
   ]
  },
  {
   "cell_type": "code",
   "execution_count": 308,
   "id": "d9730d5c",
   "metadata": {},
   "outputs": [
    {
     "ename": "TypeError",
     "evalue": "'str' object is not callable",
     "output_type": "error",
     "traceback": [
      "\u001b[1;31m---------------------------------------------------------------------------\u001b[0m",
      "\u001b[1;31mTypeError\u001b[0m                                 Traceback (most recent call last)",
      "Cell \u001b[1;32mIn[308], line 1\u001b[0m\n\u001b[1;32m----> 1\u001b[0m \u001b[38;5;28mprint\u001b[39m(\u001b[38;5;124m\"\u001b[39m\u001b[38;5;124m \u001b[39m\u001b[38;5;124m\"\u001b[39m\u001b[38;5;241m.\u001b[39mjoin(\u001b[38;5;28mmap\u001b[39m(\u001b[38;5;28mstr\u001b[39m, last_and_name)))\n",
      "\u001b[1;31mTypeError\u001b[0m: 'str' object is not callable"
     ]
    }
   ],
   "source": [
    "print(\" \".join(map(str, last_and_name)))"
   ]
  },
  {
   "cell_type": "code",
   "execution_count": 303,
   "id": "385133cd",
   "metadata": {},
   "outputs": [
    {
     "name": "stdout",
     "output_type": "stream",
     "text": [
      "CORNEJO SANCHEZ, CHRISTIAN SANTOS ORELLANA QUISPE, CRISTIAN NASSER MORALES CHOQUEHUANCA, ANGELICA KARINA GUIMARAY RIBEYRO, JOSE ROBERTO CAMACHO GAVIDIA, ABEL FERNANDO TINTAYA ORIHUELA, MEIR ALVARO CHAVEZ MARTINEZ, JOSELIN ALEXANDRA FIGUEROA MURO, LEONEL ARTURO GOMEZ CRIBILLERO, JOSE FELIPE PALOMINO SEGUÍN, AFRANIA LUZON CUEVA, BIANCA MARIETTE SUAÑA ZEGARRA, ADRIAN ANDRE SOTO POMACHAGUA, DORKAS YOMIRA JHERMY FIORENTINO MARTINEZ, LADY ALY LAMA MAVILA, HECTOR ANDRE MEZA HINOJO, GUSTAVO LOZADA MURILLO, PERSEO MARCELO ZAMBRANO JIMENEZ, MIGUEL ALONZO JACOBS LUQUE, NICOLAS VIDAL VIDAL, ROCIO GABRIELA TORRES ANICAMA, JANE CAMILA LOPEZ ESTRADA, MARIA ELISA BOYCO ORAMS, ALEJANDRO DIAZ BERROSPI, KARLINE ROSMELI RIEGA ESCALANTE, STEPHY ROSARIO LEVANO TORRES, VALERIA CECILIA ESQUIVES BRAVO, SEBASTIAN RENATO PEREZ GONZALES, JUAN CARLOS OTERO MAGUIÑA, MARIANA CLAVO CAMPOS, ANDREA BRIZETH AGUILAR GARCIA, ERICK JOSUE CALDAS VELASQUEZ, JOSUE DANIEL SALAS NUÑEZ BORJA, FABIO MANUEL PIZARRO VILLANES, FERNANDA NICOLLE QUILLATUPA MORALES, ANGELA ADELINA HUANCAYA IDONE, CESAR DANTE CALVO PORTOCARRERO, GABRIELA ISABEL\", \"IBAÑEZ ABANTO, ANGEL MAURICIO MELÉNDEZ APONTE, JUAN DIEGO CRISTIAN SERRANO, ARONE HINOJOSA CAHUANA, PERCY ALBERTH ANGLAS GARCÍA, KEVIN ARTURO ALDAVE ACOSTA, CESAR ERNESTO NÚÑEZ HUAMÁN, CÉSAR AGUSTO OBREGON HUAMAN, DIANA EDITH SOTO PACHERRES, RODRIGO FRANCO INGARUCA RIVERA, GRETTEL ALEXANDRA ROJAS HUAMAN, ROSA ANGELA NEYRA SALAS, DANTE OMAR HUERTA ESPINOZA, YAJAIRA ALEXANDRA HUANCA MARTINEZ, JORGE ALBERTO FLORES CADILLO, ALEXIS\n"
     ]
    }
   ],
   "source": [
    "print(map)"
   ]
  },
  {
   "cell_type": "code",
   "execution_count": 304,
   "id": "e3c0d8de",
   "metadata": {},
   "outputs": [
    {
     "data": {
      "text/plain": [
       "['CORNEJO SANCHEZ',\n",
       " ' CHRISTIAN SANTOS ORELLANA QUISPE',\n",
       " ' CRISTIAN NASSER MORALES CHOQUEHUANCA',\n",
       " ' ANGELICA KARINA GUIMARAY RIBEYRO',\n",
       " ' JOSE ROBERTO CAMACHO GAVIDIA',\n",
       " ' ABEL FERNANDO TINTAYA ORIHUELA',\n",
       " ' MEIR ALVARO CHAVEZ MARTINEZ',\n",
       " ' JOSELIN ALEXANDRA FIGUEROA MURO',\n",
       " ' LEONEL ARTURO GOMEZ CRIBILLERO',\n",
       " ' JOSE FELIPE PALOMINO SEGUÍN',\n",
       " ' AFRANIA LUZON CUEVA',\n",
       " ' BIANCA MARIETTE SUAÑA ZEGARRA',\n",
       " ' ADRIAN ANDRE SOTO POMACHAGUA',\n",
       " ' DORKAS YOMIRA JHERMY FIORENTINO MARTINEZ',\n",
       " ' LADY ALY LAMA MAVILA',\n",
       " ' HECTOR ANDRE MEZA HINOJO',\n",
       " ' GUSTAVO LOZADA MURILLO',\n",
       " ' PERSEO MARCELO ZAMBRANO JIMENEZ',\n",
       " ' MIGUEL ALONZO JACOBS LUQUE',\n",
       " ' NICOLAS VIDAL VIDAL',\n",
       " ' ROCIO GABRIELA TORRES ANICAMA',\n",
       " ' JANE CAMILA LOPEZ ESTRADA',\n",
       " ' MARIA ELISA BOYCO ORAMS',\n",
       " ' ALEJANDRO DIAZ BERROSPI',\n",
       " ' KARLINE ROSMELI RIEGA ESCALANTE',\n",
       " ' STEPHY ROSARIO LEVANO TORRES',\n",
       " ' VALERIA CECILIA ESQUIVES BRAVO',\n",
       " ' SEBASTIAN RENATO PEREZ GONZALES',\n",
       " ' JUAN CARLOS OTERO MAGUIÑA',\n",
       " ' MARIANA CLAVO CAMPOS',\n",
       " ' ANDREA BRIZETH AGUILAR GARCIA',\n",
       " ' ERICK JOSUE CALDAS VELASQUEZ',\n",
       " ' JOSUE DANIEL SALAS NUÑEZ BORJA',\n",
       " ' FABIO MANUEL PIZARRO VILLANES',\n",
       " ' FERNANDA NICOLLE QUILLATUPA MORALES',\n",
       " ' ANGELA ADELINA HUANCAYA IDONE',\n",
       " ' CESAR DANTE CALVO PORTOCARRERO',\n",
       " ' GABRIELA ISABEL\"',\n",
       " ' \"IBAÑEZ ABANTO',\n",
       " ' ANGEL MAURICIO MELÉNDEZ APONTE',\n",
       " ' JUAN DIEGO CRISTIAN SERRANO',\n",
       " ' ARONE HINOJOSA CAHUANA',\n",
       " ' PERCY ALBERTH ANGLAS GARCÍA',\n",
       " ' KEVIN ARTURO ALDAVE ACOSTA',\n",
       " ' CESAR ERNESTO NÚÑEZ HUAMÁN',\n",
       " ' CÉSAR AGUSTO OBREGON HUAMAN',\n",
       " ' DIANA EDITH SOTO PACHERRES',\n",
       " ' RODRIGO FRANCO INGARUCA RIVERA',\n",
       " ' GRETTEL ALEXANDRA ROJAS HUAMAN',\n",
       " ' ROSA ANGELA NEYRA SALAS',\n",
       " ' DANTE OMAR HUERTA ESPINOZA',\n",
       " ' YAJAIRA ALEXANDRA HUANCA MARTINEZ',\n",
       " ' JORGE ALBERTO FLORES CADILLO',\n",
       " ' ALEXIS']"
      ]
     },
     "execution_count": 304,
     "metadata": {},
     "output_type": "execute_result"
    }
   ],
   "source": [
    "map.split(\",\")"
   ]
  },
  {
   "cell_type": "markdown",
   "id": "e3b35d36",
   "metadata": {},
   "source": [
    "String"
   ]
  },
  {
   "cell_type": "code",
   "execution_count": null,
   "id": "ce5848b5",
   "metadata": {},
   "outputs": [],
   "source": [
    "my_name = 'Luis Enrique'"
   ]
  },
  {
   "cell_type": "code",
   "execution_count": null,
   "id": "7e25f000",
   "metadata": {},
   "outputs": [],
   "source": [
    "print(my_name[0])"
   ]
  },
  {
   "cell_type": "code",
   "execution_count": null,
   "id": "6e75137a",
   "metadata": {},
   "outputs": [],
   "source": [
    "len(my_name)"
   ]
  },
  {
   "cell_type": "code",
   "execution_count": null,
   "id": "8ad83784",
   "metadata": {},
   "outputs": [],
   "source": [
    "print(my_name[0:4])"
   ]
  },
  {
   "cell_type": "code",
   "execution_count": null,
   "id": "b9a813bc",
   "metadata": {},
   "outputs": [],
   "source": [
    "saludo = \"Hello \" + my_name"
   ]
  },
  {
   "cell_type": "code",
   "execution_count": null,
   "id": "5117291f",
   "metadata": {},
   "outputs": [],
   "source": [
    "number = \"8\""
   ]
  },
  {
   "cell_type": "code",
   "execution_count": null,
   "id": "108ba8c1",
   "metadata": {},
   "outputs": [],
   "source": [
    "\"My favorite number is {number}\".format(number)"
   ]
  }
 ],
 "metadata": {
  "kernelspec": {
   "display_name": "Python 3 (ipykernel)",
   "language": "python",
   "name": "python3"
  },
  "language_info": {
   "codemirror_mode": {
    "name": "ipython",
    "version": 3
   },
   "file_extension": ".py",
   "mimetype": "text/x-python",
   "name": "python",
   "nbconvert_exporter": "python",
   "pygments_lexer": "ipython3",
   "version": "3.9.7"
  }
 },
 "nbformat": 4,
 "nbformat_minor": 5
}
