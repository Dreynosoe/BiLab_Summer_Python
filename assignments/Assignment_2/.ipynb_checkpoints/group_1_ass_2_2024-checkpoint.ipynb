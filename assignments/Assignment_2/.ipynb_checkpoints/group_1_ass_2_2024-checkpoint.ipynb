{
 "cells": [
  {
   "cell_type": "code",
   "execution_count": null,
   "id": "96b3bb84",
   "metadata": {},
   "outputs": [],
   "source": []
  },
  {
   "cell_type": "code",
   "execution_count": null,
   "id": "1c1ec021",
   "metadata": {},
   "outputs": [],
   "source": []
  },
  {
   "cell_type": "code",
   "execution_count": null,
   "id": "3af49a4e",
   "metadata": {
    "scrolled": true
   },
   "outputs": [],
   "source": []
  },
  {
   "cell_type": "markdown",
   "id": "ce99b3ad",
   "metadata": {},
   "source": [
    "1. Tuplas\n"
   ]
  },
  {
   "cell_type": "code",
   "execution_count": null,
   "id": "bd61d082",
   "metadata": {},
   "outputs": [],
   "source": [
    "tuple1 = (\"Orange\", [10, 20, 30], (5, 15, 25))"
   ]
  },
  {
   "cell_type": "code",
   "execution_count": null,
   "id": "3af3bac2",
   "metadata": {
    "scrolled": true
   },
   "outputs": [],
   "source": [
    "tuple1[1][0]\n",
    "\n"
   ]
  },
  {
   "cell_type": "markdown",
   "id": "f247e818",
   "metadata": {},
   "source": [
    "Es importante recordar que los índices empiezan desde 0 en Phyton, por ello el 10 representa el primer elemento del segundo elemento de la tupla. Se usa la indexación[] par obtener el elemento. En este caso, el segundo elemento es el 1 y el primer elemento del segundo elemento es el 0."
   ]
  },
  {
   "cell_type": "code",
   "execution_count": null,
   "id": "637eccb4",
   "metadata": {},
   "outputs": [],
   "source": [
    "tuple1[-1]"
   ]
  },
  {
   "cell_type": "markdown",
   "id": "4769891a",
   "metadata": {},
   "source": [
    "Se usa el valor -1 para obtener el último elemento de la tupla1"
   ]
  },
  {
   "cell_type": "code",
   "execution_count": null,
   "id": "cc1a026c",
   "metadata": {},
   "outputs": [],
   "source": [
    "tuple1[-1][-1]"
   ]
  },
  {
   "cell_type": "markdown",
   "id": "1cba6c5f",
   "metadata": {},
   "source": [
    "El último elemento del último elemento de la tupla\n"
   ]
  },
  {
   "cell_type": "markdown",
   "id": "861acffd",
   "metadata": {},
   "source": [
    "No es posible cambiar el elemento naranja por rosado, ya que las tuplas son contenedores de información que no son modificables, a diferencia de las listas que si pueden ser modificadas."
   ]
  },
  {
   "cell_type": "code",
   "execution_count": null,
   "id": "abde874d",
   "metadata": {},
   "outputs": [],
   "source": [
    "len (tuple1)"
   ]
  },
  {
   "cell_type": "code",
   "execution_count": null,
   "id": "c65c6029",
   "metadata": {},
   "outputs": [],
   "source": [
    "tuple2 = ([7, 8], [9, 1], [10, 7])"
   ]
  },
  {
   "cell_type": "code",
   "execution_count": null,
   "id": "3584adac",
   "metadata": {},
   "outputs": [],
   "source": [
    "resultado = map(sum,tuple2)\n"
   ]
  },
  {
   "cell_type": "code",
   "execution_count": null,
   "id": "3ca270d0",
   "metadata": {},
   "outputs": [],
   "source": [
    "print(tuple(resultado))"
   ]
  },
  {
   "cell_type": "markdown",
   "id": "4b2f44c5",
   "metadata": {},
   "source": [
    "En primer lugar, la función map debe incluir la función que se va aplicar y, en este caso es la función suma (sum) de elementos de la tupla. En segundo lugar, se debe colocar el nombre del iterable(tuple2) sobre el cual se va a aplicar la función de sumar elementos. En este caso, el resultado que se obtendra será una tupla con los valores finales de la sumatoria. También podemos convertirlo en una lista pero hemos decidido mantenerlo como tupla."
   ]
  },
  {
   "cell_type": "code",
   "execution_count": null,
   "id": "b088891d",
   "metadata": {},
   "outputs": [],
   "source": [
    "tuple2 = ([7, 8], [9, 1], [10, 7])\n"
   ]
  },
  {
   "cell_type": "code",
   "execution_count": null,
   "id": "45814db3",
   "metadata": {},
   "outputs": [],
   "source": [
    "tuple3=list(map(lambda el: list(map(lambda el: el/2, el)), tuple2))"
   ]
  },
  {
   "cell_type": "code",
   "execution_count": 274,
   "id": "f40f1526",
   "metadata": {},
   "outputs": [
    {
     "name": "stdout",
     "output_type": "stream",
     "text": [
      "([3.5, 4.0], [4.5, 0.5], [5.0, 3.5])\n"
     ]
    }
   ],
   "source": [
    "print(tuple(tuple3))"
   ]
  },
  {
   "cell_type": "markdown",
   "id": "12964cd0",
   "metadata": {},
   "source": [
    "2. Listas\n"
   ]
  },
  {
   "cell_type": "code",
   "execution_count": null,
   "id": "34281910",
   "metadata": {},
   "outputs": [],
   "source": [
    "import numpy as np"
   ]
  },
  {
   "cell_type": "code",
   "execution_count": 275,
   "id": "96b351ff",
   "metadata": {},
   "outputs": [],
   "source": [
    "f_list = [np.nan , np.nan, \"Austria\", \"Germany\", np.nan, \"Pakistan\", \"np.nan\", np.nan ]\n"
   ]
  },
  {
   "cell_type": "code",
   "execution_count": null,
   "id": "8651dc53",
   "metadata": {},
   "outputs": [],
   "source": [
    "nan_indices = [index for index, value in enumerate(f_list) if isinstance(value, float) and np.isnan(value)]"
   ]
  },
  {
   "cell_type": "code",
   "execution_count": null,
   "id": "ea2fbe50",
   "metadata": {},
   "outputs": [],
   "source": [
    "np.nam=0,1,4,7"
   ]
  },
  {
   "cell_type": "code",
   "execution_count": 255,
   "id": "c37668ab",
   "metadata": {},
   "outputs": [
    {
     "name": "stdout",
     "output_type": "stream",
     "text": [
      "The indices (0, 1, 4, 7) have np.nan values.\n"
     ]
    }
   ],
   "source": [
    "print(f\"The indices {np.nam} have np.nan values.\")"
   ]
  },
  {
   "cell_type": "code",
   "execution_count": 4,
   "id": "e417b51d",
   "metadata": {},
   "outputs": [
    {
     "name": "stdout",
     "output_type": "stream",
     "text": [
      "[2, 3, 4, 5, 2, 3, 4, 5, 2, 3, 4, 5, 2, 3, 4, 5]\n"
     ]
    }
   ],
   "source": [
    "p2_list = [ 2 , 3, 4, 5 ]\n",
    "replicated_list = p2_list * 4\n",
    "print(replicated_list)"
   ]
  },
  {
   "cell_type": "code",
   "execution_count": null,
   "id": "bc6a854c",
   "metadata": {},
   "outputs": [],
   "source": [
    "Acá se multiplica la lista p2_list por 4 para replicar sus valores y se imprime la salida."
   ]
  },
  {
   "cell_type": "code",
   "execution_count": 10,
   "id": "d3cf28ac",
   "metadata": {},
   "outputs": [
    {
     "name": "stdout",
     "output_type": "stream",
     "text": [
      "8\n"
     ]
    }
   ],
   "source": [
    "import numpy as np\n",
    "f_list = [np.nan , np.nan, \"Austria\", \"Germany\", np.nan, \"Pakistan\", \"np.nan\", np.nan]\n",
    "print(len(f_list))"
   ]
  },
  {
   "cell_type": "code",
   "execution_count": null,
   "id": "8a0779a7",
   "metadata": {},
   "outputs": [],
   "source": [
    "Jalamos la información de np y la lista. Luego imprimimos"
   ]
  },
  {
   "cell_type": "code",
   "execution_count": 234,
   "id": "2d2ec80f",
   "metadata": {},
   "outputs": [],
   "source": [
    "text1 = ['My', 'teacher', 'assistant', 'is', 'so', 'boring.']"
   ]
  },
  {
   "cell_type": "code",
   "execution_count": 235,
   "id": "50442f88",
   "metadata": {},
   "outputs": [],
   "source": [
    "separador =  ' '"
   ]
  },
  {
   "cell_type": "code",
   "execution_count": 236,
   "id": "2839588a",
   "metadata": {},
   "outputs": [],
   "source": [
    "textofinal= separador.join(text1)"
   ]
  },
  {
   "cell_type": "code",
   "execution_count": 237,
   "id": "0580f180",
   "metadata": {},
   "outputs": [
    {
     "name": "stdout",
     "output_type": "stream",
     "text": [
      "My teacher assistant is so boring.\n"
     ]
    }
   ],
   "source": [
    "print(textofinal)"
   ]
  },
  {
   "cell_type": "code",
   "execution_count": null,
   "id": "d925693b",
   "metadata": {},
   "outputs": [],
   "source": [
    "Se utiliza la función join para unir los elementos de la lista text1 en una cadena y se imprime."
   ]
  },
  {
   "cell_type": "code",
   "execution_count": 243,
   "id": "5cc4948d",
   "metadata": {},
   "outputs": [],
   "source": [
    "texto2= [',','but is very funny']"
   ]
  },
  {
   "cell_type": "code",
   "execution_count": 244,
   "id": "ecdf2b23",
   "metadata": {},
   "outputs": [],
   "source": [
    "text1.extend(texto2)"
   ]
  },
  {
   "cell_type": "code",
   "execution_count": 245,
   "id": "19fd218b",
   "metadata": {},
   "outputs": [
    {
     "name": "stdout",
     "output_type": "stream",
     "text": [
      "['My', 'teacher', 'assistant', 'is', 'so', 'boring.', ',', 'but is very funny']\n"
     ]
    }
   ],
   "source": [
    "print(text1)"
   ]
  },
  {
   "cell_type": "code",
   "execution_count": 246,
   "id": "f6ac769b",
   "metadata": {},
   "outputs": [],
   "source": [
    "separador =  ' '"
   ]
  },
  {
   "cell_type": "code",
   "execution_count": 250,
   "id": "ac44513a",
   "metadata": {},
   "outputs": [],
   "source": [
    "text1[5] = 'boring'"
   ]
  },
  {
   "cell_type": "code",
   "execution_count": 251,
   "id": "f3727a5b",
   "metadata": {},
   "outputs": [
    {
     "name": "stdout",
     "output_type": "stream",
     "text": [
      "['My', 'teacher', 'assistant', 'is', 'so', 'boring', ',', 'but is very funny']\n"
     ]
    }
   ],
   "source": [
    "print(text1)"
   ]
  },
  {
   "cell_type": "code",
   "execution_count": 252,
   "id": "e23e297e",
   "metadata": {},
   "outputs": [],
   "source": [
    "textofinal2= separador.join(text1)"
   ]
  },
  {
   "cell_type": "code",
   "execution_count": 253,
   "id": "a78f2f14",
   "metadata": {},
   "outputs": [
    {
     "name": "stdout",
     "output_type": "stream",
     "text": [
      "My teacher assistant is so boring , but is very funny\n"
     ]
    }
   ],
   "source": [
    "print(textofinal2)"
   ]
  },
  {
   "cell_type": "code",
   "execution_count": null,
   "id": "0bd2da75",
   "metadata": {},
   "outputs": [],
   "source": [
    "Se extiende la lista text1 con palabras adicionales y se imprime la cadena resultante."
   ]
  },
  {
   "cell_type": "code",
   "execution_count": 254,
   "id": "56252c30",
   "metadata": {},
   "outputs": [],
   "source": [
    "values1 = [ 86, 86, 85, 85, 85, 83, 23, 0, 84, 1 ] "
   ]
  },
  {
   "cell_type": "code",
   "execution_count": 256,
   "id": "bf3e1653",
   "metadata": {},
   "outputs": [
    {
     "data": {
      "text/plain": [
       "86"
      ]
     },
     "execution_count": 256,
     "metadata": {},
     "output_type": "execute_result"
    }
   ],
   "source": [
    "max(values1)"
   ]
  },
  {
   "cell_type": "code",
   "execution_count": 257,
   "id": "fa0f0758",
   "metadata": {},
   "outputs": [
    {
     "data": {
      "text/plain": [
       "0"
      ]
     },
     "execution_count": 257,
     "metadata": {},
     "output_type": "execute_result"
    }
   ],
   "source": [
    "min(values1)"
   ]
  },
  {
   "cell_type": "code",
   "execution_count": 259,
   "id": "23e4ffdd",
   "metadata": {},
   "outputs": [],
   "source": [
    "maximo=max(values1)"
   ]
  },
  {
   "cell_type": "code",
   "execution_count": 263,
   "id": "ed111b85",
   "metadata": {},
   "outputs": [
    {
     "name": "stdout",
     "output_type": "stream",
     "text": [
      "86\n"
     ]
    }
   ],
   "source": [
    "print(maximo)"
   ]
  },
  {
   "cell_type": "markdown",
   "id": "43648f72",
   "metadata": {},
   "source": []
  },
  {
   "cell_type": "code",
   "execution_count": 264,
   "id": "355cab3d",
   "metadata": {},
   "outputs": [],
   "source": [
    "minimo=min(values1)"
   ]
  },
  {
   "cell_type": "code",
   "execution_count": 265,
   "id": "8ffd96d5",
   "metadata": {},
   "outputs": [
    {
     "name": "stdout",
     "output_type": "stream",
     "text": [
      "0\n"
     ]
    }
   ],
   "source": [
    "print(minimo)"
   ]
  },
  {
   "cell_type": "code",
   "execution_count": 267,
   "id": "0dc69742",
   "metadata": {},
   "outputs": [
    {
     "name": "stdout",
     "output_type": "stream",
     "text": [
      "The max value of values1 is 86 and is located in the 0 index.\n"
     ]
    }
   ],
   "source": [
    "print(f\"The max value of values1 is {maximo} and is located in the 0 index.\")"
   ]
  },
  {
   "cell_type": "code",
   "execution_count": 268,
   "id": "e6acbb9d",
   "metadata": {},
   "outputs": [
    {
     "name": "stdout",
     "output_type": "stream",
     "text": [
      "The min value of values1 is 0 and is located in the 7 index.\n"
     ]
    }
   ],
   "source": [
    "print(f\"The min value of values1 is {minimo} and is located in the 7 index.\")"
   ]
  },
  {
   "cell_type": "code",
   "execution_count": null,
   "id": "c56e295b",
   "metadata": {},
   "outputs": [],
   "source": [
    "Se utilizan las funciones max, min e index para encontrar y mostrar los valores y los índices correspondientes."
   ]
  },
  {
   "cell_type": "code",
   "execution_count": 11,
   "id": "d9730d5c",
   "metadata": {},
   "outputs": [
    {
     "name": "stdout",
     "output_type": "stream",
     "text": [
      "Nombres: ['CHRISTIAN SANTOS', 'CRISTIAN NASSER', 'ANGELICA KARINA', 'JOSE ROBERTO', 'ABEL FERNANDO', 'MEIR ALVARO', 'JOSELIN ALEXANDRA', 'LEONEL ARTURO', 'JOSE FELIPE', 'AFRANIA', 'BIANCA MARIETTE', 'ADRIAN ANDRE', 'DORKAS YOMIRA JHERMY', 'LADY ALY', 'HECTOR ANDRE', 'GUSTAVO', 'PERSEO MARCELO', 'MIGUEL ALONZO', 'NICOLAS', 'ROCIO GABRIELA', 'JANE CAMILA', 'MARIA ELISA', 'ALEJANDRO', 'KARLINE ROSMELI', 'STEPHY ROSARIO', 'VALERIA CECILIA', 'SEBASTIAN RENATO', 'JUAN CARLOS', 'MARIANA', 'ANDREA BRIZETH', 'ERICK JOSUE', 'JOSUE DANIEL', 'FABIO MANUEL', 'FERNANDA NICOLLE', 'ANGELA ADELINA', 'CESAR DANTE', 'GABRIELA ISABEL\"', 'JUAN DIEGO', 'ARONE', 'PERCY ALBERTH', 'KEVIN ARTURO', 'CESAR ERNESTO', 'CÉSAR AGUSTO', 'DIANA EDITH', 'RODRIGO FRANCO', 'GRETTEL ALEXANDRA', 'ROSA ANGELA', 'DANTE OMAR', 'YAJAIRA ALEXANDRA', 'JORGE ALBERTO', 'ALEXIS']\n"
     ]
    }
   ],
   "source": [
    "last_and_name = [ \"CORNEJO SANCHEZ, CHRISTIAN SANTOS\", \"ORELLANA QUISPE, CRISTIAN NASSER\", \"MORALES CHOQUEHUANCA, ANGELICA KARINA\", \"GUIMARAY RIBEYRO, JOSE ROBERTO\", \"CAMACHO GAVIDIA, ABEL FERNANDO\", \"TINTAYA ORIHUELA, MEIR ALVARO\", \"CHAVEZ MARTINEZ, JOSELIN ALEXANDRA\", \"FIGUEROA MURO, LEONEL ARTURO\", \"GOMEZ CRIBILLERO, JOSE FELIPE\", \"PALOMINO SEGUÍN, AFRANIA\", \"LUZON CUEVA, BIANCA MARIETTE\", \"SUAÑA ZEGARRA, ADRIAN ANDRE\", \"SOTO POMACHAGUA, DORKAS YOMIRA JHERMY\", \"FIORENTINO MARTINEZ, LADY ALY\", \"LAMA MAVILA, HECTOR ANDRE\", \"MEZA HINOJO, GUSTAVO\", \"LOZADA MURILLO, PERSEO MARCELO\", \"ZAMBRANO JIMENEZ, MIGUEL ALONZO\", \"JACOBS LUQUE, NICOLAS\", \"VIDAL VIDAL, ROCIO GABRIELA\", \"TORRES ANICAMA, JANE CAMILA\", \"LOPEZ ESTRADA, MARIA ELISA\", \"BOYCO ORAMS, ALEJANDRO\", \"DIAZ BERROSPI, KARLINE ROSMELI\", \"RIEGA ESCALANTE, STEPHY ROSARIO\", \"LEVANO TORRES, VALERIA CECILIA\", \"ESQUIVES BRAVO, SEBASTIAN RENATO\", \"PEREZ GONZALES, JUAN CARLOS\", \"OTERO MAGUIÑA, MARIANA\", \"CLAVO CAMPOS, ANDREA BRIZETH\", \"AGUILAR GARCIA, ERICK JOSUE\", \"CALDAS VELASQUEZ, JOSUE DANIEL\", \"SALAS NUÑEZ BORJA, FABIO MANUEL\", \"PIZARRO VILLANES, FERNANDA NICOLLE\", \"QUILLATUPA MORALES, ANGELA ADELINA\", \"HUANCAYA IDONE, CESAR DANTE\", \"CALVO PORTOCARRERO, GABRIELA ISABEL\\\", \\\"IBAÑEZ ABANTO, ANGEL MAURICIO\", \"MELÉNDEZ APONTE, JUAN DIEGO\", \"CRISTIAN SERRANO, ARONE\", \"HINOJOSA CAHUANA, PERCY ALBERTH\", \"ANGLAS GARCÍA, KEVIN ARTURO\", \"ALDAVE ACOSTA, CESAR ERNESTO\", \"NÚÑEZ HUAMÁN, CÉSAR AGUSTO\", \"OBREGON HUAMAN, DIANA EDITH\", \"SOTO PACHERRES, RODRIGO FRANCO\", \"INGARUCA RIVERA, GRETTEL ALEXANDRA\", \"ROJAS HUAMAN, ROSA ANGELA\", \"NEYRA SALAS, DANTE OMAR\", \"HUERTA ESPINOZA, YAJAIRA ALEXANDRA\", \"HUANCA MARTINEZ, JORGE ALBERTO\", \"FLORES CADILLO, ALEXIS\" ]\n",
    "nombres = list(map(lambda full_name: full_name.split(',')[1].lstrip(), last_and_name))\n",
    "print(\"Nombres:\", nombres)"
   ]
  },
  {
   "cell_type": "code",
   "execution_count": null,
   "id": "1837347b",
   "metadata": {},
   "outputs": [],
   "source": [
    "Se utiliza la función split para dividir cada elemento de last_and_name y se extraen los nombres. Se imprime la lista resultante."
   ]
  },
  {
   "cell_type": "code",
   "execution_count": 303,
   "id": "385133cd",
   "metadata": {},
   "outputs": [
    {
     "name": "stdout",
     "output_type": "stream",
     "text": [
      "CORNEJO SANCHEZ, CHRISTIAN SANTOS ORELLANA QUISPE, CRISTIAN NASSER MORALES CHOQUEHUANCA, ANGELICA KARINA GUIMARAY RIBEYRO, JOSE ROBERTO CAMACHO GAVIDIA, ABEL FERNANDO TINTAYA ORIHUELA, MEIR ALVARO CHAVEZ MARTINEZ, JOSELIN ALEXANDRA FIGUEROA MURO, LEONEL ARTURO GOMEZ CRIBILLERO, JOSE FELIPE PALOMINO SEGUÍN, AFRANIA LUZON CUEVA, BIANCA MARIETTE SUAÑA ZEGARRA, ADRIAN ANDRE SOTO POMACHAGUA, DORKAS YOMIRA JHERMY FIORENTINO MARTINEZ, LADY ALY LAMA MAVILA, HECTOR ANDRE MEZA HINOJO, GUSTAVO LOZADA MURILLO, PERSEO MARCELO ZAMBRANO JIMENEZ, MIGUEL ALONZO JACOBS LUQUE, NICOLAS VIDAL VIDAL, ROCIO GABRIELA TORRES ANICAMA, JANE CAMILA LOPEZ ESTRADA, MARIA ELISA BOYCO ORAMS, ALEJANDRO DIAZ BERROSPI, KARLINE ROSMELI RIEGA ESCALANTE, STEPHY ROSARIO LEVANO TORRES, VALERIA CECILIA ESQUIVES BRAVO, SEBASTIAN RENATO PEREZ GONZALES, JUAN CARLOS OTERO MAGUIÑA, MARIANA CLAVO CAMPOS, ANDREA BRIZETH AGUILAR GARCIA, ERICK JOSUE CALDAS VELASQUEZ, JOSUE DANIEL SALAS NUÑEZ BORJA, FABIO MANUEL PIZARRO VILLANES, FERNANDA NICOLLE QUILLATUPA MORALES, ANGELA ADELINA HUANCAYA IDONE, CESAR DANTE CALVO PORTOCARRERO, GABRIELA ISABEL\", \"IBAÑEZ ABANTO, ANGEL MAURICIO MELÉNDEZ APONTE, JUAN DIEGO CRISTIAN SERRANO, ARONE HINOJOSA CAHUANA, PERCY ALBERTH ANGLAS GARCÍA, KEVIN ARTURO ALDAVE ACOSTA, CESAR ERNESTO NÚÑEZ HUAMÁN, CÉSAR AGUSTO OBREGON HUAMAN, DIANA EDITH SOTO PACHERRES, RODRIGO FRANCO INGARUCA RIVERA, GRETTEL ALEXANDRA ROJAS HUAMAN, ROSA ANGELA NEYRA SALAS, DANTE OMAR HUERTA ESPINOZA, YAJAIRA ALEXANDRA HUANCA MARTINEZ, JORGE ALBERTO FLORES CADILLO, ALEXIS\n"
     ]
    }
   ],
   "source": [
    "print(map)"
   ]
  },
  {
   "cell_type": "code",
   "execution_count": 304,
   "id": "e3c0d8de",
   "metadata": {},
   "outputs": [
    {
     "data": {
      "text/plain": [
       "['CORNEJO SANCHEZ',\n",
       " ' CHRISTIAN SANTOS ORELLANA QUISPE',\n",
       " ' CRISTIAN NASSER MORALES CHOQUEHUANCA',\n",
       " ' ANGELICA KARINA GUIMARAY RIBEYRO',\n",
       " ' JOSE ROBERTO CAMACHO GAVIDIA',\n",
       " ' ABEL FERNANDO TINTAYA ORIHUELA',\n",
       " ' MEIR ALVARO CHAVEZ MARTINEZ',\n",
       " ' JOSELIN ALEXANDRA FIGUEROA MURO',\n",
       " ' LEONEL ARTURO GOMEZ CRIBILLERO',\n",
       " ' JOSE FELIPE PALOMINO SEGUÍN',\n",
       " ' AFRANIA LUZON CUEVA',\n",
       " ' BIANCA MARIETTE SUAÑA ZEGARRA',\n",
       " ' ADRIAN ANDRE SOTO POMACHAGUA',\n",
       " ' DORKAS YOMIRA JHERMY FIORENTINO MARTINEZ',\n",
       " ' LADY ALY LAMA MAVILA',\n",
       " ' HECTOR ANDRE MEZA HINOJO',\n",
       " ' GUSTAVO LOZADA MURILLO',\n",
       " ' PERSEO MARCELO ZAMBRANO JIMENEZ',\n",
       " ' MIGUEL ALONZO JACOBS LUQUE',\n",
       " ' NICOLAS VIDAL VIDAL',\n",
       " ' ROCIO GABRIELA TORRES ANICAMA',\n",
       " ' JANE CAMILA LOPEZ ESTRADA',\n",
       " ' MARIA ELISA BOYCO ORAMS',\n",
       " ' ALEJANDRO DIAZ BERROSPI',\n",
       " ' KARLINE ROSMELI RIEGA ESCALANTE',\n",
       " ' STEPHY ROSARIO LEVANO TORRES',\n",
       " ' VALERIA CECILIA ESQUIVES BRAVO',\n",
       " ' SEBASTIAN RENATO PEREZ GONZALES',\n",
       " ' JUAN CARLOS OTERO MAGUIÑA',\n",
       " ' MARIANA CLAVO CAMPOS',\n",
       " ' ANDREA BRIZETH AGUILAR GARCIA',\n",
       " ' ERICK JOSUE CALDAS VELASQUEZ',\n",
       " ' JOSUE DANIEL SALAS NUÑEZ BORJA',\n",
       " ' FABIO MANUEL PIZARRO VILLANES',\n",
       " ' FERNANDA NICOLLE QUILLATUPA MORALES',\n",
       " ' ANGELA ADELINA HUANCAYA IDONE',\n",
       " ' CESAR DANTE CALVO PORTOCARRERO',\n",
       " ' GABRIELA ISABEL\"',\n",
       " ' \"IBAÑEZ ABANTO',\n",
       " ' ANGEL MAURICIO MELÉNDEZ APONTE',\n",
       " ' JUAN DIEGO CRISTIAN SERRANO',\n",
       " ' ARONE HINOJOSA CAHUANA',\n",
       " ' PERCY ALBERTH ANGLAS GARCÍA',\n",
       " ' KEVIN ARTURO ALDAVE ACOSTA',\n",
       " ' CESAR ERNESTO NÚÑEZ HUAMÁN',\n",
       " ' CÉSAR AGUSTO OBREGON HUAMAN',\n",
       " ' DIANA EDITH SOTO PACHERRES',\n",
       " ' RODRIGO FRANCO INGARUCA RIVERA',\n",
       " ' GRETTEL ALEXANDRA ROJAS HUAMAN',\n",
       " ' ROSA ANGELA NEYRA SALAS',\n",
       " ' DANTE OMAR HUERTA ESPINOZA',\n",
       " ' YAJAIRA ALEXANDRA HUANCA MARTINEZ',\n",
       " ' JORGE ALBERTO FLORES CADILLO',\n",
       " ' ALEXIS']"
      ]
     },
     "execution_count": 304,
     "metadata": {},
     "output_type": "execute_result"
    }
   ],
   "source": [
    "map.split(\",\")"
   ]
  },
  {
   "cell_type": "code",
   "execution_count": 12,
   "id": "ce5848b5",
   "metadata": {},
   "outputs": [
    {
     "name": "stdout",
     "output_type": "stream",
     "text": [
      "Apellidos de estudiantes sin correo electrónico: ['HUANCAYA IDONE', 'CALVO PORTOCARRERO', 'IBAÑEZ ABANTO', 'MELÉNDEZ APONTE', 'CRISTIAN SERRANO', 'ANGLAS GARCÍA', 'ALDAVE ACOSTA', 'NÚÑEZ HUAMÁN', 'OBREGON HUAMAN', 'SOTO PACHERRES', 'INGARUCA RIVERA', 'ROJAS HUAMAN', 'NEYRA SALAS', 'HUERTA ESPINOZA', 'HUANCA MARTINEZ']\n"
     ]
    }
   ],
   "source": [
    "last_and_name = [ \"CORNEJO SANCHEZ, CHRISTIAN SANTOS\", \"ORELLANA QUISPE, CRISTIAN NASSER\", \"MORALES CHOQUEHUANCA, ANGELICA KARINA\", \"GUIMARAY RIBEYRO, JOSE ROBERTO\", \"CAMACHO GAVIDIA, ABEL FERNANDO\", \"TINTAYA ORIHUELA, MEIR ALVARO\", \"CHAVEZ MARTINEZ, JOSELIN ALEXANDRA\", \"FIGUEROA MURO, LEONEL ARTURO\", \"GOMEZ CRIBILLERO, JOSE FELIPE\", \"PALOMINO SEGUÍN, AFRANIA\", \"LUZON CUEVA, BIANCA MARIETTE\", \"SUAÑA ZEGARRA, ADRIAN ANDRE\", \"SOTO POMACHAGUA, DORKAS YOMIRA JHERMY\", \"FIORENTINO MARTINEZ, LADY ALY\", \"LAMA MAVILA, HECTOR ANDRE\", \"MEZA HINOJO, GUSTAVO\", \"LOZADA MURILLO, PERSEO MARCELO\", \"ZAMBRANO JIMENEZ, MIGUEL ALONZO\", \"JACOBS LUQUE, NICOLAS\", \"VIDAL VIDAL, ROCIO GABRIELA\", \"TORRES ANICAMA, JANE CAMILA\", \"LOPEZ ESTRADA, MARIA ELISA\", \"BOYCO ORAMS, ALEJANDRO\", \"DIAZ BERROSPI, KARLINE ROSMELI\", \"RIEGA ESCALANTE, STEPHY ROSARIO\", \"LEVANO TORRES, VALERIA CECILIA\", \"ESQUIVES BRAVO, SEBASTIAN RENATO\", \"PEREZ GONZALES, JUAN CARLOS\", \"OTERO MAGUIÑA, MARIANA\", \"CLAVO CAMPOS, ANDREA BRIZETH\", \"AGUILAR GARCIA, ERICK JOSUE\", \"CALDAS VELASQUEZ, JOSUE DANIEL\", \"SALAS NUÑEZ BORJA, FABIO MANUEL\", \"PIZARRO VILLANES, FERNANDA NICOLLE\", \"QUILLATUPA MORALES, ANGELA ADELINA\", \"HUANCAYA IDONE, CESAR DANTE\", \"CALVO PORTOCARRERO, GABRIELA ISABEL\", \"IBAÑEZ ABANTO, ANGEL MAURICIO\", \"MELÉNDEZ APONTE, JUAN DIEGO\", \"CRISTIAN SERRANO, ARONE\", \"HINOJOSA CAHUANA, PERCY ALBERTH\", \"ANGLAS GARCÍA, KEVIN ARTURO\", \"ALDAVE ACOSTA, CESAR ERNESTO\", \"NÚÑEZ HUAMÁN, CÉSAR AGUSTO\", \"OBREGON HUAMAN, DIANA EDITH\", \"SOTO PACHERRES, RODRIGO FRANCO\", \"INGARUCA RIVERA, GRETTEL ALEXANDRA\", \"ROJAS HUAMAN, ROSA ANGELA\", \"NEYRA SALAS, DANTE OMAR\", \"HUERTA ESPINOZA, YAJAIRA ALEXANDRA\", \"HUANCA MARTINEZ, JORGE ALBERTO\", \"FLORES CADILLO, ALEXIS\" ]\n",
    "emails = [\"cscornejo@pucp.edu.pe\", \"orellana.cn@pucp.edu.pe\", \"karina.morales@pucp.edu.pe\", \"a20083223@pucp.pe\", \"abel.camacho@pucp.pe\", \"mtintaya@pucp.edu.pe\", \"joselin.chavez@pucp.edu.pe\", \"a20105737@pucp.pe\", \"jfgomezc@pucp.pe\", \"afrania.palomino@pucp.pe\", \"luzon.bianca@pucp.pe\", \"adrian.suanaz@pucp.pe\", \"soto.y@pucp.edu.pe\", \"a20132766@pucp.pe\", \"andre.lama@pucp.edu.pe\", \"gustavo.meza@pucp.edu.pe\", \"pmlozada@pucp.edu.pe\", \"m.zambranoj@pucp.edu.pe\", \"nicolas.jacobs@pucp.edu.pe\", \"gvidal@pucp.edu.pe\", \"jane.torres@pucp.edu.pe\", \"m.lopez@pucp.edu.pe\", \"alejandro.boyco@pucp.edu.pe\", \"a20167070@pucp.edu.pe\", \"riega.stephy@pucp.edu.pe\", \"vlevanot@pucp.edu.pe\", \"sesquives@pucp.edu.pe\", \"perez.juanc@pucp.edu.pe\", \"mariana.otero@pucp.edu.pe\", \"aclavo@pucp.edu.pe\", \"a20182474@pucp.edu.pe\", \"josue.caldas@pucp.edu.pe\", \"fabio.salas@pucp.edu.pe\", \"fernanda.pizarro@pucp.edu.pe\", \"aquillatupa@pucp.pe\", \"\", \"\", \"\", \"\", \"\", \"f0873079@pucp.edu.pe\", \"\", \"\", \"\", \"\", \"\", \"\", \"\", \"\", \"\", \"\", \"flores.alexis@pucp.edu.pe\", ]\n",
    "last_names = list(map(lambda full_name: full_name.split(',')[0], last_and_name))\n",
    "combined_data = zip(last_names, emails)\n",
    "last_names_no_email = [last_name for last_name, email in combined_data if email == '']\n",
    "print(\"Apellidos de estudiantes sin correo electrónico:\", last_names_no_email)\n"
   ]
  },
  {
   "cell_type": "code",
   "execution_count": null,
   "id": "0da2db85",
   "metadata": {},
   "outputs": [],
   "source": [
    "Se utiliza zip para combinar last_names y emails, y luego se filtran los apellidos de aquellos estudiantes que no tienen"
   ]
  }
 ],
 "metadata": {
  "kernelspec": {
   "display_name": "Python 3 (ipykernel)",
   "language": "python",
   "name": "python3"
  },
  "language_info": {
   "codemirror_mode": {
    "name": "ipython",
    "version": 3
   },
   "file_extension": ".py",
   "mimetype": "text/x-python",
   "name": "python",
   "nbconvert_exporter": "python",
   "pygments_lexer": "ipython3",
   "version": "3.11.5"
  }
 },
 "nbformat": 4,
 "nbformat_minor": 5
}
