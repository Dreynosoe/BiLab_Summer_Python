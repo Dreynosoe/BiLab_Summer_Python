{
 "cells": [
  {
   "cell_type": "markdown",
   "id": "da62998d",
   "metadata": {},
   "source": [
    "## Tuple"
   ]
  },
  {
   "cell_type": "markdown",
   "id": "1624896e",
   "metadata": {},
   "source": [
    "1."
   ]
  },
  {
   "cell_type": "code",
   "execution_count": 2,
   "id": "02411410",
   "metadata": {},
   "outputs": [],
   "source": [
    "tuple1 = (\"Orange\", [10, 20, 30], (5, 15, 25))"
   ]
  },
  {
   "cell_type": "code",
   "execution_count": 3,
   "id": "3928b997",
   "metadata": {},
   "outputs": [
    {
     "data": {
      "text/plain": [
       "10"
      ]
     },
     "execution_count": 3,
     "metadata": {},
     "output_type": "execute_result"
    }
   ],
   "source": [
    "tuple1[1][0]"
   ]
  },
  {
   "cell_type": "markdown",
   "id": "2f0c4f28",
   "metadata": {},
   "source": [
    "2."
   ]
  },
  {
   "cell_type": "code",
   "execution_count": 4,
   "id": "0bf38278",
   "metadata": {},
   "outputs": [
    {
     "data": {
      "text/plain": [
       "25"
      ]
     },
     "execution_count": 4,
     "metadata": {},
     "output_type": "execute_result"
    }
   ],
   "source": [
    "tuple1[2][2]"
   ]
  },
  {
   "cell_type": "markdown",
   "id": "e0eb731d",
   "metadata": {},
   "source": [
    "3."
   ]
  },
  {
   "cell_type": "markdown",
   "id": "6c0a3793",
   "metadata": {},
   "source": [
    "It is not possible because when you create a Tuple, you can't modificate it."
   ]
  },
  {
   "cell_type": "markdown",
   "id": "bcfdd6f9",
   "metadata": {},
   "source": [
    "4."
   ]
  },
  {
   "cell_type": "code",
   "execution_count": 5,
   "id": "6c425da6",
   "metadata": {},
   "outputs": [
    {
     "name": "stdout",
     "output_type": "stream",
     "text": [
      "3\n"
     ]
    }
   ],
   "source": [
    "print(len(tuple1))"
   ]
  },
  {
   "cell_type": "markdown",
   "id": "14ad10d4",
   "metadata": {},
   "source": [
    "5."
   ]
  },
  {
   "cell_type": "code",
   "execution_count": 6,
   "id": "845b429c",
   "metadata": {},
   "outputs": [],
   "source": [
    "tuple2 = ([7, 8], [9, 1], [10, 7])"
   ]
  },
  {
   "cell_type": "markdown",
   "id": "f473144f",
   "metadata": {},
   "source": [
    "Step 1: I have to use the map function to apply the sum function in each sublist in tuple 2."
   ]
  },
  {
   "cell_type": "code",
   "execution_count": 7,
   "id": "5a4a0b4c",
   "metadata": {},
   "outputs": [],
   "source": [
    "mapped_result = map(sum, tuple2)"
   ]
  },
  {
   "cell_type": "markdown",
   "id": "8a756aa2",
   "metadata": {},
   "source": [
    "Step 2: Then I convert the mapped result to a list"
   ]
  },
  {
   "cell_type": "code",
   "execution_count": 8,
   "id": "ed7f630a",
   "metadata": {},
   "outputs": [],
   "source": [
    "result_list = list(mapped_result)"
   ]
  },
  {
   "cell_type": "markdown",
   "id": "5c7bc24e",
   "metadata": {},
   "source": [
    "Step 3: Next I sum all the elements in the result list"
   ]
  },
  {
   "cell_type": "code",
   "execution_count": 9,
   "id": "264618e1",
   "metadata": {},
   "outputs": [],
   "source": [
    "final_sum = sum(result_list)"
   ]
  },
  {
   "cell_type": "markdown",
   "id": "c7414937",
   "metadata": {},
   "source": [
    "Step 4: Finally I print the result using the function print. The anwser is 42."
   ]
  },
  {
   "cell_type": "code",
   "execution_count": 10,
   "id": "d38d5207",
   "metadata": {},
   "outputs": [
    {
     "name": "stdout",
     "output_type": "stream",
     "text": [
      "42\n"
     ]
    }
   ],
   "source": [
    "print(final_sum)"
   ]
  },
  {
   "cell_type": "markdown",
   "id": "6c7028cf",
   "metadata": {},
   "source": [
    "6. For this exercise, half of each value was taken into account:\n"
   ]
  },
  {
   "cell_type": "code",
   "execution_count": 1,
   "id": "fc265423",
   "metadata": {},
   "outputs": [],
   "source": [
    "tuple2 = ([7, 8], [9, 1], [10, 7])"
   ]
  },
  {
   "cell_type": "code",
   "execution_count": 2,
   "id": "43d74824",
   "metadata": {},
   "outputs": [],
   "source": [
    "tuple3 = tuple(map(lambda sublist: [x / 2 for x in sublist], tuple2))"
   ]
  },
  {
   "cell_type": "code",
   "execution_count": 3,
   "id": "ea6de6fd",
   "metadata": {},
   "outputs": [
    {
     "name": "stdout",
     "output_type": "stream",
     "text": [
      "([3.5, 4.0], [4.5, 0.5], [5.0, 3.5])\n"
     ]
    }
   ],
   "source": [
    "print(tuple3)"
   ]
  },
  {
   "cell_type": "markdown",
   "id": "cd56cb79",
   "metadata": {},
   "source": [
    "## Lists\n"
   ]
  },
  {
   "cell_type": "markdown",
   "id": "31e44609",
   "metadata": {},
   "source": [
    "1."
   ]
  },
  {
   "cell_type": "code",
   "execution_count": 4,
   "id": "68f607be",
   "metadata": {},
   "outputs": [],
   "source": [
    "import numpy as np"
   ]
  },
  {
   "cell_type": "code",
   "execution_count": 5,
   "id": "9dd96e98",
   "metadata": {},
   "outputs": [],
   "source": [
    "f_list = [np.nan , np.nan, \"Austria\", \"Germany\", np.nan, \"Pakistan\", \"np.nan\", np.nan ]\n"
   ]
  },
  {
   "cell_type": "code",
   "execution_count": 6,
   "id": "c77e2a48",
   "metadata": {},
   "outputs": [],
   "source": [
    "nan_indices = [index for index, value in enumerate(f_list) if isinstance(value, float) and np.isnan(value)]\n"
   ]
  },
  {
   "cell_type": "code",
   "execution_count": 7,
   "id": "d771b4d9",
   "metadata": {},
   "outputs": [
    {
     "name": "stdout",
     "output_type": "stream",
     "text": [
      "The indices 0, 1, 4, 7 have np.nan values.\n"
     ]
    }
   ],
   "source": [
    "print(f\"The indices {', '.join(map(str, nan_indices))} have np.nan values.\")\n"
   ]
  },
  {
   "cell_type": "markdown",
   "id": "2d8ca4e5",
   "metadata": {},
   "source": [
    "2. "
   ]
  },
  {
   "cell_type": "code",
   "execution_count": 8,
   "id": "d0704aa6",
   "metadata": {},
   "outputs": [],
   "source": [
    "p2_list = [ 2 , 3, 4, 5 ]\n"
   ]
  },
  {
   "cell_type": "code",
   "execution_count": 9,
   "id": "aa4db403",
   "metadata": {},
   "outputs": [],
   "source": [
    "replicated_list = p2_list * 4\n"
   ]
  },
  {
   "cell_type": "code",
   "execution_count": 10,
   "id": "9159733f",
   "metadata": {},
   "outputs": [
    {
     "name": "stdout",
     "output_type": "stream",
     "text": [
      "[2, 3, 4, 5, 2, 3, 4, 5, 2, 3, 4, 5, 2, 3, 4, 5]\n"
     ]
    }
   ],
   "source": [
    "print(replicated_list)\n"
   ]
  },
  {
   "cell_type": "markdown",
   "id": "b125d188",
   "metadata": {},
   "source": [
    "3. "
   ]
  },
  {
   "cell_type": "code",
   "execution_count": 11,
   "id": "b5ef272c",
   "metadata": {},
   "outputs": [],
   "source": [
    "f_list = [np.nan , np.nan, \"Austria\", \"Germany\", np.nan, \"Pakistan\", \"np.nan\", np.nan ]\n"
   ]
  },
  {
   "cell_type": "code",
   "execution_count": 12,
   "id": "adaaae5b",
   "metadata": {},
   "outputs": [
    {
     "name": "stdout",
     "output_type": "stream",
     "text": [
      "8\n"
     ]
    }
   ],
   "source": [
    "print(len(f_list))\n"
   ]
  },
  {
   "cell_type": "markdown",
   "id": "9f44f040",
   "metadata": {},
   "source": [
    "4. "
   ]
  },
  {
   "cell_type": "code",
   "execution_count": 13,
   "id": "91b96b8f",
   "metadata": {},
   "outputs": [],
   "source": [
    "text1 = ['My', 'teacher', 'assistant', 'is', 'so', 'boring.']\n"
   ]
  },
  {
   "cell_type": "code",
   "execution_count": 14,
   "id": "0eb9134b",
   "metadata": {},
   "outputs": [],
   "source": [
    "result_string = ' '.join(text1)\n"
   ]
  },
  {
   "cell_type": "code",
   "execution_count": 15,
   "id": "bf05f714",
   "metadata": {},
   "outputs": [
    {
     "name": "stdout",
     "output_type": "stream",
     "text": [
      "My teacher assistant is so boring.\n"
     ]
    }
   ],
   "source": [
    "print(result_string)\n"
   ]
  },
  {
   "cell_type": "code",
   "execution_count": null,
   "id": "44482e74",
   "metadata": {},
   "outputs": [],
   "source": []
  },
  {
   "cell_type": "markdown",
   "id": "efd78cf2",
   "metadata": {},
   "source": []
  },
  {
   "cell_type": "code",
   "execution_count": null,
   "id": "ab37de49",
   "metadata": {},
   "outputs": [],
   "source": []
  }
 ],
 "metadata": {
  "kernelspec": {
   "display_name": "Python 3 (ipykernel)",
   "language": "python",
   "name": "python3"
  },
  "language_info": {
   "codemirror_mode": {
    "name": "ipython",
    "version": 3
   },
   "file_extension": ".py",
   "mimetype": "text/x-python",
   "name": "python",
   "nbconvert_exporter": "python",
   "pygments_lexer": "ipython3",
   "version": "3.11.5"
  }
 },
 "nbformat": 4,
 "nbformat_minor": 5
}
