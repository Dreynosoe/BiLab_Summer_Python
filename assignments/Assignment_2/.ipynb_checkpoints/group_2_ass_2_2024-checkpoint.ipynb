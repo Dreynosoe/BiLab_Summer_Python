{
 "cells": [
  {
   "cell_type": "markdown",
   "id": "da62998d",
   "metadata": {},
   "source": [
    "## Tuple"
   ]
  },
  {
   "cell_type": "markdown",
   "id": "1624896e",
   "metadata": {},
   "source": [
    "1."
   ]
  },
  {
   "cell_type": "code",
   "execution_count": 2,
   "id": "02411410",
   "metadata": {},
   "outputs": [],
   "source": [
    "tuple1 = (\"Orange\", [10, 20, 30], (5, 15, 25))"
   ]
  },
  {
   "cell_type": "code",
   "execution_count": 3,
   "id": "3928b997",
   "metadata": {},
   "outputs": [
    {
     "data": {
      "text/plain": [
       "10"
      ]
     },
     "execution_count": 3,
     "metadata": {},
     "output_type": "execute_result"
    }
   ],
   "source": [
    "tuple1[1][0]"
   ]
  },
  {
   "cell_type": "markdown",
   "id": "2f0c4f28",
   "metadata": {},
   "source": [
    "2."
   ]
  },
  {
   "cell_type": "code",
   "execution_count": 4,
   "id": "0bf38278",
   "metadata": {},
   "outputs": [
    {
     "data": {
      "text/plain": [
       "25"
      ]
     },
     "execution_count": 4,
     "metadata": {},
     "output_type": "execute_result"
    }
   ],
   "source": [
    "tuple1[2][2]"
   ]
  },
  {
   "cell_type": "markdown",
   "id": "e0eb731d",
   "metadata": {},
   "source": [
    "3."
   ]
  },
  {
   "cell_type": "markdown",
   "id": "6c0a3793",
   "metadata": {},
   "source": [
    "It is not possible because when you create a Tuple, you can't modificate it."
   ]
  },
  {
   "cell_type": "markdown",
   "id": "bcfdd6f9",
   "metadata": {},
   "source": [
    "4."
   ]
  },
  {
   "cell_type": "code",
   "execution_count": 5,
   "id": "6c425da6",
   "metadata": {},
   "outputs": [
    {
     "name": "stdout",
     "output_type": "stream",
     "text": [
      "3\n"
     ]
    }
   ],
   "source": [
    "print(len(tuple1))"
   ]
  },
  {
   "cell_type": "markdown",
   "id": "14ad10d4",
   "metadata": {},
   "source": [
    "5."
   ]
  },
  {
   "cell_type": "code",
   "execution_count": 6,
   "id": "845b429c",
   "metadata": {},
   "outputs": [],
   "source": [
    "tuple2 = ([7, 8], [9, 1], [10, 7])"
   ]
  },
  {
   "cell_type": "markdown",
   "id": "f473144f",
   "metadata": {},
   "source": [
    "Step 1: I have to use the map function to apply the sum function in each sublist in tuple 2."
   ]
  },
  {
   "cell_type": "code",
   "execution_count": 7,
   "id": "5a4a0b4c",
   "metadata": {},
   "outputs": [],
   "source": [
    "mapped_result = map(sum, tuple2)"
   ]
  },
  {
   "cell_type": "markdown",
   "id": "8a756aa2",
   "metadata": {},
   "source": [
    "Step 2: Then I convert the mapped result to a list"
   ]
  },
  {
   "cell_type": "code",
   "execution_count": 8,
   "id": "ed7f630a",
   "metadata": {},
   "outputs": [],
   "source": [
    "result_list = list(mapped_result)"
   ]
  },
  {
   "cell_type": "markdown",
   "id": "5c7bc24e",
   "metadata": {},
   "source": [
    "Step 3: Next I sum all the elements in the result list"
   ]
  },
  {
   "cell_type": "code",
   "execution_count": 9,
   "id": "264618e1",
   "metadata": {},
   "outputs": [],
   "source": [
    "final_sum = sum(result_list)"
   ]
  },
  {
   "cell_type": "markdown",
   "id": "c7414937",
   "metadata": {},
   "source": [
    "Step 4: Finally I print the result using the function print. The anwser is 42."
   ]
  },
  {
   "cell_type": "code",
   "execution_count": 10,
   "id": "d38d5207",
   "metadata": {},
   "outputs": [
    {
     "name": "stdout",
     "output_type": "stream",
     "text": [
      "42\n"
     ]
    }
   ],
   "source": [
    "print(final_sum)"
   ]
  },
  {
   "cell_type": "code",
   "execution_count": null,
   "id": "b9bf74fa",
   "metadata": {},
   "outputs": [],
   "source": []
  }
 ],
 "metadata": {
  "kernelspec": {
   "display_name": "Python 3 (ipykernel)",
   "language": "python",
   "name": "python3"
  },
  "language_info": {
   "codemirror_mode": {
    "name": "ipython",
    "version": 3
   },
   "file_extension": ".py",
   "mimetype": "text/x-python",
   "name": "python",
   "nbconvert_exporter": "python",
   "pygments_lexer": "ipython3",
   "version": "3.11.5"
  }
 },
 "nbformat": 4,
 "nbformat_minor": 5
}
