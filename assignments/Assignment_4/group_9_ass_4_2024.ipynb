Here all of us are goint to put our activities.
